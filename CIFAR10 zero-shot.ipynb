{
 "cells": [
  {
   "cell_type": "code",
   "execution_count": 44,
   "id": "3d681c98",
   "metadata": {},
   "outputs": [],
   "source": [
    "from liteclip import ZeroShotPipeline\n",
    "import numpy as np\n",
    "from pathlib import Path\n",
    "from PIL import Image\n",
    "from tqdm.auto import tqdm\n",
    "from sklearn.metrics import accuracy_score"
   ]
  },
  {
   "cell_type": "code",
   "execution_count": 33,
   "id": "42c64d13",
   "metadata": {},
   "outputs": [
    {
     "data": {
      "application/vnd.jupyter.widget-view+json": {
       "model_id": "ebeb32da3c0445fe9cb4668b020d008e",
       "version_major": 2,
       "version_minor": 0
      },
      "text/plain": [
       "  0%|          | 0/10 [00:00<?, ?it/s]"
      ]
     },
     "metadata": {},
     "output_type": "display_data"
    }
   ],
   "source": [
    "base_path = Path('examples/cifar10/')\n",
    "classes = list(base_path.glob('*'))\n",
    "images = []\n",
    "for label in tqdm(classes):\n",
    "    all_im = list(label.glob('*'))\n",
    "    images.extend(all_im[:100])"
   ]
  },
  {
   "cell_type": "code",
   "execution_count": 34,
   "id": "cd5c7a2e",
   "metadata": {},
   "outputs": [
    {
     "data": {
      "text/plain": [
       "['photo of a ship',\n",
       " 'photo of a dog',\n",
       " 'photo of a deer',\n",
       " 'photo of a automobile',\n",
       " 'photo of a cat',\n",
       " 'photo of a frog',\n",
       " 'photo of a airplane',\n",
       " 'photo of a horse',\n",
       " 'photo of a truck',\n",
       " 'photo of a bird']"
      ]
     },
     "execution_count": 34,
     "metadata": {},
     "output_type": "execute_result"
    }
   ],
   "source": [
    "classes = list(set([p.parent.stem for p in images]))\n",
    "labels = [f\"photo of a {label}\" for label in classes]\n",
    "labels"
   ]
  },
  {
   "cell_type": "code",
   "execution_count": 41,
   "id": "e90a3c7b",
   "metadata": {},
   "outputs": [
    {
     "data": {
      "text/plain": [
       "{'ship': 0,\n",
       " 'dog': 1,\n",
       " 'deer': 2,\n",
       " 'automobile': 3,\n",
       " 'cat': 4,\n",
       " 'frog': 5,\n",
       " 'airplane': 6,\n",
       " 'horse': 7,\n",
       " 'truck': 8,\n",
       " 'bird': 9}"
      ]
     },
     "execution_count": 41,
     "metadata": {},
     "output_type": "execute_result"
    }
   ],
   "source": [
    "l_i = {l:i for i,l in enumerate(classes)}\n",
    "l_i"
   ]
  },
  {
   "cell_type": "code",
   "execution_count": 35,
   "id": "7a0738a6",
   "metadata": {},
   "outputs": [],
   "source": [
    "pipeline = ZeroShotPipeline()"
   ]
  },
  {
   "cell_type": "code",
   "execution_count": 36,
   "id": "2f9c9637",
   "metadata": {},
   "outputs": [
    {
     "data": {
      "application/vnd.jupyter.widget-view+json": {
       "model_id": "c2ca664860dc43089410a8bb0c939c24",
       "version_major": 2,
       "version_minor": 0
      },
      "text/plain": [
       "  0%|          | 0/1000 [00:00<?, ?it/s]"
      ]
     },
     "metadata": {},
     "output_type": "display_data"
    }
   ],
   "source": [
    "probs = []\n",
    "for image in tqdm(images):\n",
    "    truth = image.parent.stem\n",
    "    pred = pipeline.predict(images[0],labels,top_k=1)[0][0].replace('photo of a ','')\n",
    "    probs.append((truth,pred))"
   ]
  },
  {
   "cell_type": "code",
   "execution_count": 45,
   "id": "8a1e71b8",
   "metadata": {},
   "outputs": [
    {
     "ename": "KeyError",
     "evalue": "7",
     "output_type": "error",
     "traceback": [
      "\u001b[0;31m---------------------------------------------------------------------------\u001b[0m",
      "\u001b[0;31mKeyError\u001b[0m                                  Traceback (most recent call last)",
      "Cell \u001b[0;32mIn[45], line 1\u001b[0m\n\u001b[0;32m----> 1\u001b[0m probs \u001b[38;5;241m=\u001b[39m np\u001b[38;5;241m.\u001b[39marray([(l_i[t],l_i[p]) \u001b[38;5;28;01mfor\u001b[39;00m t,p \u001b[38;5;129;01min\u001b[39;00m probs])\n",
      "Cell \u001b[0;32mIn[45], line 1\u001b[0m, in \u001b[0;36m<listcomp>\u001b[0;34m(.0)\u001b[0m\n\u001b[0;32m----> 1\u001b[0m probs \u001b[38;5;241m=\u001b[39m np\u001b[38;5;241m.\u001b[39marray([(\u001b[43ml_i\u001b[49m\u001b[43m[\u001b[49m\u001b[43mt\u001b[49m\u001b[43m]\u001b[49m,l_i[p]) \u001b[38;5;28;01mfor\u001b[39;00m t,p \u001b[38;5;129;01min\u001b[39;00m probs])\n",
      "\u001b[0;31mKeyError\u001b[0m: 7"
     ]
    }
   ],
   "source": [
    "probs = [(l_i[t],l_i[p]) for t,p in probs]\n",
    "p"
   ]
  },
  {
   "cell_type": "code",
   "execution_count": null,
   "id": "a4792370",
   "metadata": {},
   "outputs": [],
   "source": []
  }
 ],
 "metadata": {
  "kernelspec": {
   "display_name": "Python 3 (ipykernel)",
   "language": "python",
   "name": "python3"
  },
  "language_info": {
   "codemirror_mode": {
    "name": "ipython",
    "version": 3
   },
   "file_extension": ".py",
   "mimetype": "text/x-python",
   "name": "python",
   "nbconvert_exporter": "python",
   "pygments_lexer": "ipython3",
   "version": "3.10.9"
  }
 },
 "nbformat": 4,
 "nbformat_minor": 5
}
